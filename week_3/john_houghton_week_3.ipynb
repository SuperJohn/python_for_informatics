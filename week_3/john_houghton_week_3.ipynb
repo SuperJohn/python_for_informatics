{
 "cells": [
  {
   "cell_type": "markdown",
   "metadata": {},
   "source": [
    "# Week 3 Homework by John Houghton"
   ]
  },
  {
   "cell_type": "markdown",
   "metadata": {},
   "source": [
    "### Question 1\n",
    "Write a program called “process_numbers.py” that repeatedly reads numbers input by the user\n",
    "until the user types “done”. After the user has entered “done”, print out the total, count,\n",
    "maximum, minimum, and average of the entered numbers."
   ]
  },
  {
   "cell_type": "code",
   "execution_count": 119,
   "metadata": {},
   "outputs": [],
   "source": [
    "def process_numbers():\n",
    "    done = ''\n",
    "    numbers = []\n",
    "    while done != 'done': \n",
    "        done = raw_input('add a number or type \"done\" to kill job > ')\n",
    "        if done == 'done':\n",
    "            total = sum(numbers)\n",
    "            counts = len(numbers)\n",
    "            maximum = max(numbers)\n",
    "            average = sum(numbers)/len(numbers)\n",
    "            print('\\tnice! you killed the job! \\n\\nfinal numbers were' + str(numbers))\n",
    "            break\n",
    "        else:\n",
    "            numbers.append(int(done))\n",
    "            print('\\tnumbers updated! ' + str(numbers))\n",
    "    print '\\ntotal= ' + str(total), '\\ncounts= ' + str(counts), '\\nmaximum = ' + str(maximum), '\\naverage = ' + str(average)"
   ]
  },
  {
   "cell_type": "code",
   "execution_count": 120,
   "metadata": {},
   "outputs": [
    {
     "name": "stdout",
     "output_type": "stream",
     "text": [
      "add a number or type \"done\" to kill job > 5\n",
      "\tnumbers updated! [5]\n",
      "add a number or type \"done\" to kill job > 6\n",
      "\tnumbers updated! [5, 6]\n",
      "add a number or type \"done\" to kill job > 7\n",
      "\tnumbers updated! [5, 6, 7]\n",
      "add a number or type \"done\" to kill job > done\n",
      "\tnice! you killed the job! \n",
      "\n",
      "final numbers were[5, 6, 7]\n",
      "\n",
      "total= 18 \n",
      "counts= 3 \n",
      "maximum = 7 \n",
      "average = 6\n"
     ]
    }
   ],
   "source": [
    "process_numbers()"
   ]
  },
  {
   "cell_type": "markdown",
   "metadata": {},
   "source": [
    "### Question 2\n",
    "Given the following python statement…\n",
    "avg_str = 'Average value read: 0.72903'\n",
    "Use the find() method and string slicing to extract the portion of the string after the colon\n",
    "character and then use the float() function to convert the extracted string into a floating point\n",
    "value. Save your code in a file named “parse_float.py”."
   ]
  },
  {
   "cell_type": "code",
   "execution_count": 137,
   "metadata": {
    "collapsed": true
   },
   "outputs": [],
   "source": [
    "avg_str = 'Average value read: 0.72903'"
   ]
  },
  {
   "cell_type": "code",
   "execution_count": 138,
   "metadata": {
    "collapsed": true
   },
   "outputs": [],
   "source": [
    "def parse_float(string):\n",
    "    my_float = float(string[string.find(':')+2:])\n",
    "    return my_float"
   ]
  },
  {
   "cell_type": "code",
   "execution_count": 139,
   "metadata": {},
   "outputs": [
    {
     "data": {
      "text/plain": [
       "0.72903"
      ]
     },
     "execution_count": 139,
     "metadata": {},
     "output_type": "execute_result"
    }
   ],
   "source": [
    "parse_float(avg_str)"
   ]
  },
  {
   "cell_type": "markdown",
   "metadata": {},
   "source": [
    "### Question 3\n",
    "Read the Python document on string methods at this URL:\n",
    "https://docs.python.org/2/library/stdtypes.html#string-methods\n",
    "Spend some time playing with some of these methods. Note that the brackets ([]) in the\n",
    "documentation denote that the bracketed elements are optional."
   ]
  },
  {
   "cell_type": "code",
   "execution_count": null,
   "metadata": {
    "collapsed": true
   },
   "outputs": [],
   "source": []
  }
 ],
 "metadata": {
  "kernelspec": {
   "display_name": "Python 2",
   "language": "python",
   "name": "python2"
  },
  "language_info": {
   "codemirror_mode": {
    "name": "ipython",
    "version": 2
   },
   "file_extension": ".py",
   "mimetype": "text/x-python",
   "name": "python",
   "nbconvert_exporter": "python",
   "pygments_lexer": "ipython2",
   "version": "2.7.13"
  }
 },
 "nbformat": 4,
 "nbformat_minor": 2
}
