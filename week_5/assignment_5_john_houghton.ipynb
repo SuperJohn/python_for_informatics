{
 "cells": [
  {
   "cell_type": "markdown",
   "metadata": {},
   "source": [
    "# Assignment 5\n",
    "### “Message Frequency Count”\n",
    "Author: John Houghton"
   ]
  },
  {
   "cell_type": "markdown",
   "metadata": {},
   "source": [
    "### Part 1\n",
    "Write a program that reads through the mail box data and when you find a line that starts with “From”, extract the address information from the line. Count the number of messages from each person by using a dictionary. Note that you might need to look at more than “From” because of duplicate instances of the address (hint: “From “ vs. “From:”)."
   ]
  },
  {
   "cell_type": "code",
   "execution_count": 74,
   "metadata": {},
   "outputs": [
    {
     "name": "stdout",
     "output_type": "stream",
     "text": [
      "Enter the file name: mbox.txt\n",
      "390 zqian@umich.edu\n",
      "322 mmmay@indiana.edu\n",
      "316 cwen@iupui.edu\n",
      "222 chmaurer@iupui.edu\n",
      "220 aaronz@vt.edu\n",
      "192 ian@caret.cam.ac.uk\n",
      "186 jimeng@umich.edu\n",
      "180 rjlowe@iupui.edu\n",
      "168 dlhaines@umich.edu\n",
      "134 david.horwitz@uct.ac.za\n",
      "96 ajpoland@iupui.edu\n",
      "88 wagnermr@iupui.edu\n",
      "88 gjthomas@iupui.edu\n",
      "86 sgithens@caret.cam.ac.uk\n",
      "64 ray@media.berkeley.edu\n",
      "58 stephen.marquard@uct.ac.za\n",
      "56 nuno@ufp.pt\n",
      "56 josrodri@iupui.edu\n",
      "56 gsilver@umich.edu\n",
      "54 bkirschn@umich.edu\n",
      "54 arwhyte@umich.edu\n",
      "50 gopal.ramasammycook@gmail.com\n",
      "48 louis@media.berkeley.edu\n",
      "38 csev@umich.edu\n",
      "36 antranig@caret.cam.ac.uk\n",
      "34 zach.thomas@txstate.edu\n",
      "34 stuart.freeman@et.gatech.edu\n",
      "34 ostermmg@whitman.edu\n",
      "28 kimsooil@bu.edu\n",
      "28 a.fish@lancaster.ac.uk\n",
      "24 ktsao@stanford.edu\n",
      "18 mbreuker@loi.nl\n",
      "18 jzaremba@unicon.net\n",
      "16 lance@indiana.edu\n",
      "16 john.ellis@rsmart.com\n",
      "16 ggolden@umich.edu\n",
      "14 hu2@iupui.edu\n",
      "12 tnguyen@iupui.edu\n",
      "10 ssmail@indiana.edu\n",
      "10 knoop@umich.edu\n",
      "8 bahollad@indiana.edu\n",
      "6 gbhatnag@umich.edu\n",
      "4 jleasia@umich.edu\n",
      "2 thoppaymallika@fhda.edu\n",
      "2 jlrenfro@ucdavis.edu\n",
      "2 colin.clark@utoronto.ca\n"
     ]
    }
   ],
   "source": [
    "import re\n",
    "import string\n",
    "\n",
    "fname = raw_input('Enter the file name: ')\n",
    "try:\n",
    "    fhand = open(fname)\n",
    "except:\n",
    "    print 'File cannot be opened:', fname\n",
    "    exit()\n",
    "\n",
    "counts = dict()\n",
    "fhand = open('mbox.txt')\n",
    "for line in fhand:\n",
    "    line = line.rstrip()\n",
    "    if re.search('^From.+@', line) :\n",
    "        parsed = re.findall('[a-zA-Z0-9]\\S*@\\S*[a-zA-Z]', line)\n",
    "        if len(parsed) > 0 :\n",
    "            parsed = parsed[0]\n",
    "            if parsed not in counts:\n",
    "                counts[parsed] = 1\n",
    "            else:\n",
    "                counts[parsed] += 1\n",
    "\n",
    "# Sort the dictionary by value\n",
    "lst = list()\n",
    "for key, val in counts.items():\n",
    "    lst.append( (val, key) )\n",
    "\n",
    "lst.sort(reverse=True)\n",
    "\n",
    "for key, val in lst[:100] :\n",
    "    print key, val"
   ]
  },
  {
   "cell_type": "markdown",
   "metadata": {},
   "source": [
    "### Part 2\n",
    "After all of the data has been read, print the person with the highest number of messages. To do this, create a list of tuples (count, email) from the dictionary, sort the list in reverse order and print out the person who has the highest number of messages."
   ]
  },
  {
   "cell_type": "markdown",
   "metadata": {},
   "source": [
    "zqian@umich.edu"
   ]
  },
  {
   "cell_type": "markdown",
   "metadata": {},
   "source": [
    "### Deliverable:\n",
    "Two files as attachments at our course shell assignment page. The first file should be a Python .py file with the specified functionality. The second file should be a screenshot image file (.png or .jpg) demonstrating the correct execution of your program with “mbox.txt”.  Please ensure that your full name is specified as a Python comment at the top of the .py file.\n"
   ]
  },
  {
   "cell_type": "code",
   "execution_count": 86,
   "metadata": {},
   "outputs": [
    {
     "data": {
      "text/plain": [
       "(12345, 54321)"
      ]
     },
     "execution_count": 86,
     "metadata": {},
     "output_type": "execute_result"
    }
   ],
   "source": [
    "(12345, 54321)"
   ]
  }
 ],
 "metadata": {
  "kernelspec": {
   "display_name": "Python 2",
   "language": "python",
   "name": "python2"
  },
  "language_info": {
   "codemirror_mode": {
    "name": "ipython",
    "version": 2
   },
   "file_extension": ".py",
   "mimetype": "text/x-python",
   "name": "python",
   "nbconvert_exporter": "python",
   "pygments_lexer": "ipython2",
   "version": "2.7.13"
  }
 },
 "nbformat": 4,
 "nbformat_minor": 2
}
