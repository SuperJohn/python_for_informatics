{
 "cells": [
  {
   "cell_type": "markdown",
   "metadata": {},
   "source": [
    "# Python for Informatics\n",
    "## Assignment 6: “URL Reader”\n",
    "\n",
    "### Description:\n",
    "1. Rename the socket1.py program from our textbook to URL_reader.py.\n",
    "2. Modify the URL_reader.py program to use urllib instead of a socket.\n",
    "3. Add code that prompts the user for the URL so it can read any web page. \n",
    "4. Add error checking using try and except to handle the condition where the user enters an improperly formatted or non-existent URL.\n",
    "5. Count the number of characters received and stop displaying any text after it has shown 3000 characters.\n",
    "6. Continue to retrieve the entire document, count the total number of characters, and display the total number of characters.\n",
    "\n",
    "### Deliverable:\n",
    "Two files as attachments at our course shell assignment page. The first file should be a Python URL_reader.py file with the specified functionality. The second file should be a screenshot image file (.png or .jpg) demonstrating the correct execution of your program with an URL of your choice. Please ensure that your full name is specified as a Python comment at the top of the URL_reader.py file.\n",
    "\n"
   ]
  },
  {
   "cell_type": "code",
   "execution_count": 4,
   "metadata": {},
   "outputs": [],
   "source": [
    "import URL_reader"
   ]
  },
  {
   "cell_type": "code",
   "execution_count": 8,
   "metadata": {},
   "outputs": [
    {
     "data": {
      "text/plain": [
       "\"I don't?\""
      ]
     },
     "execution_count": 8,
     "metadata": {},
     "output_type": "execute_result"
    }
   ],
   "source": [
    "import re\n",
    "re = 'I don\\'t?'\n",
    "re"
   ]
  },
  {
   "cell_type": "code",
   "execution_count": 16,
   "metadata": {},
   "outputs": [
    {
     "ename": "SyntaxError",
     "evalue": "invalid syntax (<ipython-input-16-d8497ad8f63e>, line 1)",
     "output_type": "error",
     "traceback": [
      "\u001b[0;36m  File \u001b[0;32m\"<ipython-input-16-d8497ad8f63e>\"\u001b[0;36m, line \u001b[0;32m1\u001b[0m\n\u001b[0;31m    import refhand = open('animal.txt')\u001b[0m\n\u001b[0m                   ^\u001b[0m\n\u001b[0;31mSyntaxError\u001b[0m\u001b[0;31m:\u001b[0m invalid syntax\n"
     ]
    }
   ],
   "source": [
    "import refhand = open('animal.txt')\n",
    "for line in fhand:\n",
    "    line = line.rstrip()\n",
    "    if re.search('^.o.', line):\n",
    "        print line\n"
   ]
  }
 ],
 "metadata": {
  "kernelspec": {
   "display_name": "Python 2",
   "language": "python",
   "name": "python2"
  },
  "language_info": {
   "codemirror_mode": {
    "name": "ipython",
    "version": 2
   },
   "file_extension": ".py",
   "mimetype": "text/x-python",
   "name": "python",
   "nbconvert_exporter": "python",
   "pygments_lexer": "ipython2",
   "version": "2.7.13"
  }
 },
 "nbformat": 4,
 "nbformat_minor": 2
}
