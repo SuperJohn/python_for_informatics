{
 "cells": [
  {
   "cell_type": "markdown",
   "metadata": {},
   "source": [
    "# Assignment 1: \"mean\""
   ]
  },
  {
   "cell_type": "markdown",
   "metadata": {},
   "source": [
    "## Student Name: John Houghton"
   ]
  },
  {
   "cell_type": "markdown",
   "metadata": {},
   "source": [
    "## Step 1: Prompt the user, and receive input for five floating point numeric values. You should use five cells to accomplish this."
   ]
  },
  {
   "cell_type": "code",
   "execution_count": 56,
   "metadata": {
    "collapsed": true
   },
   "outputs": [],
   "source": [
    "# establish the values variable\n",
    "values = []"
   ]
  },
  {
   "cell_type": "code",
   "execution_count": 57,
   "metadata": {
    "collapsed": false
   },
   "outputs": [
    {
     "name": "stdout",
     "output_type": "stream",
     "text": [
      "Input a floating point value:\n",
      "> 1.1\n",
      "now the list looks like this: [1.1]\n"
     ]
    }
   ],
   "source": [
    "# collect the first value from user input, add to values variable, and print value array\n",
    "\n",
    "print(\"Input a floating point value:\")\n",
    "value = input(\"> \")\n",
    "values.append(value)\n",
    "print(\"now the list looks like this: {}\".format(values))"
   ]
  },
  {
   "cell_type": "code",
   "execution_count": 58,
   "metadata": {
    "collapsed": false
   },
   "outputs": [
    {
     "name": "stdout",
     "output_type": "stream",
     "text": [
      "Input a floating point value:\n",
      "> 2.2\n",
      "now the list looks like this: [1.1, 2.2]\n"
     ]
    }
   ],
   "source": [
    "# collect the second value from user input, add to values variable, and print value array\n",
    "\n",
    "print(\"Input a floating point value:\")\n",
    "value = input(\"> \")\n",
    "values.append(value)\n",
    "print(\"now the list looks like this: {}\".format(values))"
   ]
  },
  {
   "cell_type": "code",
   "execution_count": 59,
   "metadata": {
    "collapsed": false
   },
   "outputs": [
    {
     "name": "stdout",
     "output_type": "stream",
     "text": [
      "Input a floating point value:\n",
      "> 3.3\n",
      "now the list looks like this: [1.1, 2.2, 3.3]\n"
     ]
    }
   ],
   "source": [
    "# collect the third value from user input, add to values variable, and print value array\n",
    "\n",
    "print(\"Input a floating point value:\")\n",
    "value = input(\"> \")\n",
    "values.append(value)\n",
    "print(\"now the list looks like this: {}\".format(values))"
   ]
  },
  {
   "cell_type": "code",
   "execution_count": 60,
   "metadata": {
    "collapsed": false
   },
   "outputs": [
    {
     "name": "stdout",
     "output_type": "stream",
     "text": [
      "Input a floating point value:\n",
      "> 4.4\n",
      "now the list looks like this: [1.1, 2.2, 3.3, 4.4]\n"
     ]
    }
   ],
   "source": [
    "# collect the fourth value from user input, add to values variable, and print value array\n",
    "\n",
    "print(\"Input a floating point value:\")\n",
    "value = input(\"> \")\n",
    "values.append(value)\n",
    "print(\"now the list looks like this: {}\".format(values))"
   ]
  },
  {
   "cell_type": "code",
   "execution_count": 61,
   "metadata": {
    "collapsed": false
   },
   "outputs": [
    {
     "name": "stdout",
     "output_type": "stream",
     "text": [
      "Input a floating point value:\n",
      "> 5.5\n",
      "now the list looks like this: [1.1, 2.2, 3.3, 4.4, 5.5]\n"
     ]
    }
   ],
   "source": [
    "# collect the fifth value from user input, add to values variable, and print value array\n",
    "\n",
    "print(\"Input a floating point value:\")\n",
    "value = input(\"> \")\n",
    "values.append(value)\n",
    "print(\"now the list looks like this: {}\".format(values))"
   ]
  },
  {
   "cell_type": "markdown",
   "metadata": {},
   "source": [
    "## Step 2: Calculate and present to the user the floating point mean"
   ]
  },
  {
   "cell_type": "code",
   "execution_count": 62,
   "metadata": {
    "collapsed": false
   },
   "outputs": [
    {
     "name": "stdout",
     "output_type": "stream",
     "text": [
      "16.5\n"
     ]
    }
   ],
   "source": [
    "# sum the list and print the value\n",
    "\n",
    "sums = sum(values)\n",
    "print(sums)"
   ]
  }
 ],
 "metadata": {
  "kernelspec": {
   "display_name": "Python 2",
   "language": "python",
   "name": "python2"
  },
  "language_info": {
   "codemirror_mode": {
    "name": "ipython",
    "version": 2
   },
   "file_extension": ".py",
   "mimetype": "text/x-python",
   "name": "python",
   "nbconvert_exporter": "python",
   "pygments_lexer": "ipython2",
   "version": "2.7.11"
  }
 },
 "nbformat": 4,
 "nbformat_minor": 2
}
