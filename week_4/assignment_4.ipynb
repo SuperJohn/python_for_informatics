{
 "cells": [
  {
   "cell_type": "markdown",
   "metadata": {},
   "source": [
    "# Python for Informatics\n",
    "### Assignment 4 : “Files, Lists, and Split”"
   ]
  },
  {
   "cell_type": "markdown",
   "metadata": {},
   "source": [
    "Write a program that prompts the user for a filename. Open the file, and read it one line at a time. For each line split the line into a list of words called line_list. For each word in the current line_list, look to see if it is in a list called script_list. If the word is not in script_list, add it to the script_list. Sort the script_list alphabetically."
   ]
  },
  {
   "cell_type": "code",
   "execution_count": null,
   "metadata": {},
   "outputs": [],
   "source": [
    "# prompt user for a filename\n",
    "filename = raw_input('what is the name of the file?')"
   ]
  },
  {
   "cell_type": "code",
   "execution_count": null,
   "metadata": {
    "collapsed": true
   },
   "outputs": [],
   "source": [
    "def file_parser(filename):\n",
    "    script_list = []\n",
    "    for i in filename:\n",
    "        line_list = []\n",
    "        # take the first line and split it\n",
    "        line_list = filename.read_txt[i]\n",
    "        line_list.split()\n",
    "        for i in line_list:\n",
    "            # check to see whether it's in script_list\n",
    "            \n",
    "            # if it's not in script_list, append it\n",
    "            \n",
    "            \n",
    "    script_list.sort()\n",
    "    return script_list"
   ]
  },
  {
   "cell_type": "markdown",
   "metadata": {},
   "source": [
    "Within the same program define a function called freq_count(). This function accepts a str and a list of words as arguments. It traverses the list of words and searches each word and counts the occurrences of the substring str within each word. Print each word along with the number of substring occurrences found with the associated word."
   ]
  },
  {
   "cell_type": "code",
   "execution_count": null,
   "metadata": {
    "collapsed": true
   },
   "outputs": [],
   "source": [
    "def freq_count(string, words_list):\n",
    "    for i in words_list: \n",
    "        counter = 0\n",
    "        if words_list[i].substring('string') = True\n",
    "        then counter += 1\n",
    "    print string, counter"
   ]
  },
  {
   "cell_type": "markdown",
   "metadata": {},
   "source": [
    "Test your program with the romeo.txt file that comes as a text file resource with our textbook. Your program should accept the filename and the substring str as input from the user. After reading the file to build and sort script_list, pass script_list into the freq_count() function.\n",
    "Deliverable:\n",
    "Two files as attachments at our course shell assignment page. The first file should be a Python .py file with the specified functionality. The second file should be a screenshot image file (.png or .jpg) demonstrating the correct execution of your program with “romeo.txt” entered as the filename by the user.  Please ensure that your full name is specified as a Python comment at the top of the .py file.\n"
   ]
  },
  {
   "cell_type": "code",
   "execution_count": null,
   "metadata": {
    "collapsed": true
   },
   "outputs": [],
   "source": []
  }
 ],
 "metadata": {
  "kernelspec": {
   "display_name": "Python 2",
   "language": "python",
   "name": "python2"
  },
  "language_info": {
   "codemirror_mode": {
    "name": "ipython",
    "version": 2
   },
   "file_extension": ".py",
   "mimetype": "text/x-python",
   "name": "python",
   "nbconvert_exporter": "python",
   "pygments_lexer": "ipython2",
   "version": "2.7.13"
  }
 },
 "nbformat": 4,
 "nbformat_minor": 2
}
