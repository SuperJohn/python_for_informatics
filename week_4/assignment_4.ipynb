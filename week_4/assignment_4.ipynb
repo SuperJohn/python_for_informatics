{
 "cells": [
  {
   "cell_type": "markdown",
   "metadata": {},
   "source": [
    "# Python for Informatics\n",
    "### Assignment 4 : “Files, Lists, and Split”"
   ]
  },
  {
   "cell_type": "markdown",
   "metadata": {},
   "source": [
    "Write a program that prompts the user for a filename. Open the file, and read it one line at a time. For each line split the line into a list of words called line_list. For each word in the current line_list, look to see if it is in a list called script_list. If the word is not in script_list, add it to the script_list. Sort the script_list alphabetically."
   ]
  },
  {
   "cell_type": "code",
   "execution_count": 48,
   "metadata": {},
   "outputs": [],
   "source": [
    "# use file romeo.txt\n",
    "\n",
    "def get_word_list():\n",
    "    filename = raw_input('what is the name of the file? > ')\n",
    "    try:\n",
    "        my_file = open(filename)\n",
    "    except:\n",
    "        print filename , ' cannot be found.'\n",
    "        exit()\n",
    "    global script_list\n",
    "    script_list = []\n",
    "    for line in my_file:\n",
    "        line_list = line.split()\n",
    "        # take the first line and split it\n",
    "        for word in line_list:\n",
    "            # check to see whether it's in script_list\n",
    "            if word.lower() not in script_list:\n",
    "                # if it's not in script_list, append it\n",
    "                script_list.append(word.lower())\n",
    "            else:\n",
    "                continue\n",
    "    script_list.sort()\n",
    "    return script_list"
   ]
  },
  {
   "cell_type": "code",
   "execution_count": 49,
   "metadata": {},
   "outputs": [
    {
     "name": "stdout",
     "output_type": "stream",
     "text": [
      "what is the name of the file? > romeo.txt\n"
     ]
    },
    {
     "data": {
      "text/plain": [
       "['already',\n",
       " 'and',\n",
       " 'arise',\n",
       " 'breaks',\n",
       " 'but',\n",
       " 'east',\n",
       " 'envious',\n",
       " 'fair',\n",
       " 'grief',\n",
       " 'is',\n",
       " 'it',\n",
       " 'juliet',\n",
       " 'kill',\n",
       " 'light',\n",
       " 'moon',\n",
       " 'pale',\n",
       " 'sick',\n",
       " 'soft',\n",
       " 'sun',\n",
       " 'the',\n",
       " 'through',\n",
       " 'what',\n",
       " 'who',\n",
       " 'window',\n",
       " 'with',\n",
       " 'yonder']"
      ]
     },
     "execution_count": 49,
     "metadata": {},
     "output_type": "execute_result"
    }
   ],
   "source": [
    "get_word_list()"
   ]
  },
  {
   "cell_type": "markdown",
   "metadata": {},
   "source": [
    "Within the same program define a function called freq_count(). This function accepts a str and a list of words as arguments. It traverses the list of words and searches each word and counts the occurrences of the substring str within each word. Print each word along with the number of substring occurrences found with the associated word."
   ]
  },
  {
   "cell_type": "code",
   "execution_count": 52,
   "metadata": {},
   "outputs": [],
   "source": [
    "def freq_count(string, words_list):\n",
    "    counter = 0\n",
    "    for word in words_list: \n",
    "        if string in words_list:\n",
    "            counter += 1\n",
    "        else:\n",
    "            continue\n",
    "    print string, counter"
   ]
  },
  {
   "cell_type": "code",
   "execution_count": 47,
   "metadata": {},
   "outputs": [
    {
     "name": "stdout",
     "output_type": "stream",
     "text": [
      "what string do you want to count? > yonder\n",
      "yonder 1\n"
     ]
    }
   ],
   "source": [
    "string = raw_input('what string do you want to count? > ')\n",
    "counter = 0\n",
    "for word in script_list:\n",
    "    if string in word:\n",
    "        counter += 1\n",
    "    else:\n",
    "        continue\n",
    "print string, counter"
   ]
  },
  {
   "cell_type": "code",
   "execution_count": 54,
   "metadata": {},
   "outputs": [
    {
     "name": "stdout",
     "output_type": "stream",
     "text": [
      "a 0\n"
     ]
    }
   ],
   "source": [
    "freq_count('a', script_list)"
   ]
  },
  {
   "cell_type": "markdown",
   "metadata": {},
   "source": [
    "Test your program with the romeo.txt file that comes as a text file resource with our textbook. Your program should accept the filename and the substring str as input from the user. After reading the file to build and sort script_list, pass script_list into the freq_count() function.\n",
    "Deliverable:\n",
    "Two files as attachments at our course shell assignment page. The first file should be a Python .py file with the specified functionality. The second file should be a screenshot image file (.png or .jpg) demonstrating the correct execution of your program with “romeo.txt” entered as the filename by the user.  Please ensure that your full name is specified as a Python comment at the top of the .py file.\n"
   ]
  },
  {
   "cell_type": "code",
   "execution_count": null,
   "metadata": {
    "collapsed": true
   },
   "outputs": [],
   "source": []
  }
 ],
 "metadata": {
  "kernelspec": {
   "display_name": "Python 2",
   "language": "python",
   "name": "python2"
  },
  "language_info": {
   "codemirror_mode": {
    "name": "ipython",
    "version": 2
   },
   "file_extension": ".py",
   "mimetype": "text/x-python",
   "name": "python",
   "nbconvert_exporter": "python",
   "pygments_lexer": "ipython2",
   "version": "2.7.13"
  }
 },
 "nbformat": 4,
 "nbformat_minor": 2
}
